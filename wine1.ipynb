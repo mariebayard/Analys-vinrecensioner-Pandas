{
 "cells": [
  {
   "cell_type": "code",
   "execution_count": null,
   "metadata": {},
   "outputs": [],
   "source": [
    "import pandas as pd\n",
    "import matplotlib.pyplot as plt"
   ]
  },
  {
   "cell_type": "code",
   "execution_count": null,
   "metadata": {},
   "outputs": [],
   "source": [
    "#läser in parquet-filen\n",
    "wine=pd.read_parquet('wine_parquet')"
   ]
  },
  {
   "cell_type": "code",
   "execution_count": null,
   "metadata": {},
   "outputs": [],
   "source": [
    "#ändrar dtypes på kolumner country, province, variety och winery\n",
    "wine['country']=wine['country'].astype('category')\n",
    "wine['description']=wine['description'].astype('string')\n",
    "wine['variety']=wine['variety'].astype('category')\n",
    "wine['winery']=wine['winery'].astype('category')"
   ]
  },
  {
   "cell_type": "code",
   "execution_count": null,
   "metadata": {},
   "outputs": [],
   "source": [
    "#tar bort de kolumner som vi inte är intresserade av i den här analysen\n",
    "wine=wine.drop(columns=['region_1', 'region_2', 'designation', 'price','province'])\n",
    "#tar bort de rader som saknar land\n",
    "wine=wine.dropna(subset=['country'])\n",
    "#tar bort dubeltter\n",
    "wine=wine.drop_duplicates(keep='first')\n",
    "wine.info()"
   ]
  },
  {
   "cell_type": "code",
   "execution_count": null,
   "metadata": {},
   "outputs": [],
   "source": [
    "#Diagram 1\n",
    "#hur många viner görs i de länder med störst produktion?\n",
    "wine_production_by_country= wine['country'].value_counts()\n",
    "top_10_countries=wine_production_by_country.head(10)\n",
    "plt.figure(figsize=(12,6))\n",
    "top_10_countries.plot(kind='bar', color='#780206')\n",
    "plt.title('Top 10 Countries of Wine Production')#totalt antal länder i detta dataset är 48\n",
    "plt.xlabel('Country')\n",
    "plt.ylabel('Number of wines')\n",
    "plt.xticks(rotation=70)\n",
    "plt.tight_layout()\n",
    "#plt.savefig(\"Number of Wine Production.png\", bbox_inches=None)"
   ]
  },
  {
   "cell_type": "code",
   "execution_count": null,
   "metadata": {},
   "outputs": [],
   "source": [
    "#Diagram 2\n",
    "#Hur stor del av vinproduktionen står de länder med störst vinproduktion för.\n",
    "wine_production_by_country= wine['country'].value_counts()\n",
    "top_10_countries=wine_production_by_country.head(10)\n",
    "total_wines=wine_production_by_country.sum()\n",
    "other_countries_count=total_wines-top_10_countries.sum()\n",
    "all_countries_counts=list(top_10_countries.values)+[other_countries_count]\n",
    "all_countries_labels=list(top_10_countries.index)+['Others']\n",
    "colors=['#780206', '#a80207', '#c9282d', '#c24a4d', '#992e11', '#c94c2a', '#e67253', '#a37f07', '#c4a439', '#c7ae5b', '#cfbe86']\n",
    "\n",
    "plt.figure(figsize=(10,8))\n",
    "plt.pie(all_countries_counts, labels=all_countries_labels, autopct='%1.1f%%', startangle=90, colors=colors, labeldistance=1.1, pctdistance=0.8)\n",
    "plt.title('Percentage of Wine Production, total is 48 countries')\n",
    "plt.tight_layout()\n",
    "#plt.savefig(\"Percentage of Wine Production.png\", bbox_inches=None)"
   ]
  },
  {
   "cell_type": "code",
   "execution_count": null,
   "metadata": {},
   "outputs": [],
   "source": [
    "#Diagram 3\n",
    "# Vilka 10 viner är vanligast i de länder med högst produktion?\n",
    "top_wine_countries=wine[wine['country'].isin(top_10_countries.index)]\n",
    "sorts_count=top_wine_countries['variety'].value_counts()\n",
    "#sorts_count 539 olika sorters viner produceras i de 10 största vinproducent-länderna\n",
    "top_10_sorts_by_country=sorts_count.head(10)\n",
    "num_others=sorts_count.sum()-top_10_sorts_by_country.sum()\n",
    "\n",
    "all_sorts_counts=list(top_10_sorts_by_country.values)+[num_others]\n",
    "all_sorts_labels=list(top_10_sorts_by_country.index)+['Others']\n",
    "colors=['#780206', '#a80207', '#c9282d', '#c24a4d', '#992e11', '#c94c2a', '#e67253', '#a37f07', '#c4a439', '#c7ae5b', '#cfbe86']\n",
    "\n",
    "plt.figure(figsize=(10,8))\n",
    "plt.pie(all_sorts_counts, labels=all_sorts_labels, autopct='%1.1f%%', startangle=90, colors=colors, labeldistance=1.1, pctdistance=0.8)\n",
    "plt.title('Top 10 Varieties in Top 10 Wine Producing Countries, total of varieties is 539')\n",
    "plt.tight_layout()\n",
    "#plt.savefig(\"Percentage of Most common Wines in Top 10 Countries.png\", bbox_inches=None)\n"
   ]
  },
  {
   "cell_type": "code",
   "execution_count": null,
   "metadata": {},
   "outputs": [],
   "source": [
    "#Vilka är de vanligast förekommande vinerna.\n",
    "most_common=wine['variety'].value_counts()\n",
    "print(f'Total amount of varieties is {len(most_common)}')\n",
    "print(most_common.head(10))"
   ]
  },
  {
   "cell_type": "code",
   "execution_count": null,
   "metadata": {},
   "outputs": [],
   "source": [
    "#Diagram 4\n",
    "#hur stor del av alla viner utgör de 5 vanligaste.\n",
    "top_5_varietys=most_common.head(5).index\n",
    "other_count=len(most_common)-5\n",
    "others_total=most_common.tail(other_count).sum()\n",
    "top_5_counts=most_common.head(5)\n",
    "top_5_counts['Others']=others_total\n",
    "colors=['#780206', '#a80207', '#992e11', '#c94c2a', '#c4a439', '#cfbe86']\n",
    "\n",
    "total_wines=len(wine)\n",
    "top_5_percent=top_5_counts/total_wines*100\n",
    "stacked_df=pd.DataFrame(top_5_percent).transpose()\n",
    "plt.figure(figsize=(10,8))\n",
    "plt.pie(stacked_df.iloc[0], labels=stacked_df.columns, autopct='%1.1f%%', startangle=90, colors=colors,pctdistance=0.8)\n",
    "plt.title('Distribution of the top 5 Wines and Others')\n",
    "plt.tight_layout()\n",
    "#plt.savefig(\"Percent of top 5.png\", bbox_inches=None)"
   ]
  },
  {
   "cell_type": "code",
   "execution_count": null,
   "metadata": {},
   "outputs": [],
   "source": [
    "#Diagram 5\n",
    "#Hur stor del utgör de 10 vanligast förekommande vinerna av alla viner.\n",
    "top_10_varieties=most_common.head(10).index\n",
    "other_count_10=len(most_common)-10\n",
    "others_total_10=most_common.tail(other_count_10).sum()\n",
    "top_10_counts=most_common.head(10)\n",
    "top_10_counts['Others']=others_total_10\n",
    "colors=['#780206', '#a80207', '#c9282d', '#c24a4d', '#992e11', '#c94c2a', '#e67253', '#a37f07', '#c4a439', '#c7ae5b', '#cfbe86']\n",
    "\n",
    "total_wines=len(wine)\n",
    "top_10_percent=top_10_counts/total_wines*100\n",
    "stacked_df=pd.DataFrame(top_10_percent).transpose()\n",
    "plt.figure(figsize=(10,8))\n",
    "plt.pie(stacked_df.iloc[0], labels=stacked_df.columns, autopct='%1.1f%%', startangle=90, colors=colors,pctdistance=0.8)\n",
    "plt.title('Distribution of the top 10 Wines and Others')\n",
    "plt.tight_layout()\n",
    "plt.tight_layout()\n",
    "#plt.savefig(\"Percent of top 10.png\", bbox_inches=None)\n"
   ]
  },
  {
   "cell_type": "code",
   "execution_count": null,
   "metadata": {},
   "outputs": [],
   "source": [
    "#Diagram 6\n",
    "#vilka 5 länder har flest viner med 99 eller 100 poäng?\n",
    "highest_points_wine=wine[wine['points']>=99]\n",
    "highest_points_wine_grouped= highest_points_wine.groupby('country')['points'].count()\n",
    "highest_points_wine_grouped_head=highest_points_wine_grouped.sort_values(ascending=False).head(5)\n",
    "plt.figure(figsize=(10,6))\n",
    "highest_points_wine_grouped_head.plot(kind='bar', color='#780206')\n",
    "plt.xlabel('country')\n",
    "plt.ylabel('Count')\n",
    "plt.title('Wines with 99 or 100 points grouped by Country')\n",
    "plt.xticks(rotation=70)\n",
    "plt.tight_layout()\n",
    "#plt.savefig(\"99 or 100 points.png\", bbox_inches=None)"
   ]
  }
 ],
 "metadata": {
  "kernelspec": {
   "display_name": ".venv",
   "language": "python",
   "name": "python3"
  },
  "language_info": {
   "codemirror_mode": {
    "name": "ipython",
    "version": 3
   },
   "file_extension": ".py",
   "mimetype": "text/x-python",
   "name": "python",
   "nbconvert_exporter": "python",
   "pygments_lexer": "ipython3",
   "version": "3.11.5"
  }
 },
 "nbformat": 4,
 "nbformat_minor": 2
}
