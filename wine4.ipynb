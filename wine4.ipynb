{
 "cells": [
  {
   "cell_type": "code",
   "execution_count": null,
   "metadata": {},
   "outputs": [],
   "source": [
    "import pandas as pd\n",
    "import matplotlib.pyplot as plt\n",
    "import seaborn as sns"
   ]
  },
  {
   "cell_type": "code",
   "execution_count": null,
   "metadata": {},
   "outputs": [],
   "source": [
    "#läser in parquet-filen\n",
    "wine=pd.read_parquet('wine_parquet')"
   ]
  },
  {
   "cell_type": "code",
   "execution_count": null,
   "metadata": {},
   "outputs": [],
   "source": [
    "wine['country']=wine['country'].astype('category')\n",
    "wine['description']=wine['description'].astype('string')\n",
    "wine['variety']=wine['variety'].astype('category')\n",
    "wine['winery']=wine['winery'].astype('category')"
   ]
  },
  {
   "cell_type": "code",
   "execution_count": null,
   "metadata": {},
   "outputs": [],
   "source": [
    "#tar bort de kolumner som vi inte är intresserade av i den här analysen\n",
    "wine=wine.drop(columns=['region_1', 'region_2', 'designation','province'])\n",
    "#tar bort de rader som saknar land\n",
    "wine=wine.dropna(subset=['country'])\n",
    "#tar bort dubeltter\n",
    "wine=wine.drop_duplicates(keep='first')"
   ]
  },
  {
   "cell_type": "code",
   "execution_count": null,
   "metadata": {},
   "outputs": [],
   "source": [
    "#Data cleaning. Kolumnen Price och de med NaN värden plockas bort för prisjämförelserna.\n",
    "wine=wine.dropna(subset=['price'])\n",
    "wine.info()"
   ]
  },
  {
   "cell_type": "code",
   "execution_count": null,
   "metadata": {},
   "outputs": [],
   "source": [
    "#vilka winerys som producerar viner med högsta betyg.\n",
    "highest_rated_winerys=wine[wine['points']==100]\n",
    "highest_rated_winerys['winery'].unique()\n",
    "highest_rated_winerys['winery'].head(11)"
   ]
  },
  {
   "cell_type": "code",
   "execution_count": null,
   "metadata": {},
   "outputs": [],
   "source": [
    "#Avignonesi Winery\n",
    "avignonesi= wine[wine['winery']=='Avignonesi']\n",
    "avignonesi['variety'] = avignonesi['variety'].cat.remove_unused_categories()\n",
    "colors=['#780206', '#c9282d', '#c24a4d', '#e67253', '#a37f07', '#c4a439', '#cfbe86']\n",
    "\n",
    "plt.figure(figsize=(10,6))\n",
    "sns.scatterplot(x=avignonesi['price'], y=avignonesi['points'], hue=avignonesi['variety'], marker='o', s=100, palette=colors)\n",
    "plt.title('Avignonesi Wines, points vs price')\n",
    "plt.legend(bbox_to_anchor=(1,1))\n",
    "plt.tight_layout()\n",
    "#plt.savefig('Avignonesi.png', bbox_inches=None)"
   ]
  },
  {
   "cell_type": "code",
   "execution_count": null,
   "metadata": {},
   "outputs": [],
   "source": [
    "#Cardinale Winery\n",
    "cardinale= wine[wine['winery']=='Cardinale']\n",
    "cardinale['variety'] = cardinale['variety'].cat.remove_unused_categories()\n",
    "colors=['#780206', '#a37f07']\n",
    "plt.figure(figsize=(10,6))\n",
    "sns.scatterplot(x='price', y='points', hue='variety', data= cardinale, marker='o', s=100, palette=colors)\n",
    "plt.title('Cardinale Wines, points vs price')\n",
    "plt.legend(bbox_to_anchor=(1,1))\n",
    "plt.tight_layout()\n",
    "#plt.savefig('Cardinale.png', bbox_inches=None)"
   ]
  },
  {
   "cell_type": "code",
   "execution_count": null,
   "metadata": {},
   "outputs": [],
   "source": [
    "#Cayuse Winery\n",
    "cayuse= wine[wine['winery']=='Cayuse']\n",
    "cayuse['variety'] = cayuse['variety'].cat.remove_unused_categories()\n",
    "colors=['#780206', '#a80207', '#c9282d', '#c24a4d', '#c94c2a', '#e67253', '#a37f07', '#c4a439', '#c7ae5b', '#cfbe86']\n",
    "\n",
    "plt.figure(figsize=(10,6))\n",
    "sns.scatterplot(x='price', y='points', hue='variety', data= cayuse, marker='o', s=100, palette=colors)\n",
    "plt.title('Cayuse Wines, points vs price')\n",
    "plt.legend(bbox_to_anchor=(1,1))\n",
    "plt.tight_layout()\n",
    "#plt.savefig('Cayuse.png', bbox_inches=None)"
   ]
  },
  {
   "cell_type": "code",
   "execution_count": null,
   "metadata": {},
   "outputs": [],
   "source": [
    "#Chambers Rosewood Vineyards\n",
    "chambers= wine[wine['winery']=='Chambers Rosewood Vineyards']\n",
    "chambers['variety'] = chambers['variety'].cat.remove_unused_categories()\n",
    "colors=['#780206', '#c9282d', '#e67253','#c4a439']\n",
    "\n",
    "plt.figure(figsize=(10,6))\n",
    "sns.scatterplot(x='price', y='points', hue='variety', data= chambers, marker='o', s=100, palette=colors)\n",
    "plt.title('Chambers Rosewood Vineyards Wines, points vs price')\n",
    "plt.legend(bbox_to_anchor=(1,1))\n",
    "plt.tight_layout()\n",
    "#plt.savefig('Chambers.png', bbox_inches=None)"
   ]
  },
  {
   "cell_type": "code",
   "execution_count": null,
   "metadata": {},
   "outputs": [],
   "source": [
    "#Château Haut-Brion\n",
    "chateau= wine[wine['winery']=='Château Haut-Brion']\n",
    "chateau['variety'] = chateau['variety'].cat.remove_unused_categories()\n",
    "colors=['#780206', '#a37f07']\n",
    "plt.figure(figsize=(10,6))\n",
    "sns.scatterplot(x='price', y='points', hue='variety', data= chateau, marker='o', s=100, palette=colors)\n",
    "plt.title('Château Haut-Brion Wines, points vs price')\n",
    "plt.legend(bbox_to_anchor=(1,1))\n",
    "plt.tight_layout()\n",
    "#plt.savefig('CChâteau Haut-Brion.png', bbox_inches=None)"
   ]
  },
  {
   "cell_type": "code",
   "execution_count": null,
   "metadata": {},
   "outputs": [],
   "source": [
    "#Giovanni Chiappini\n",
    "giovanni= wine[wine['winery']=='Giovanni Chiappini']\n",
    "giovanni['variety'] = giovanni['variety'].cat.remove_unused_categories()\n",
    "colors=['#780206']\n",
    "plt.figure(figsize=(10,6))\n",
    "sns.scatterplot(x='price', y='points', hue='variety', data= giovanni, marker='o', s=100, palette=colors)\n",
    "plt.title('Giovanni Chiappini Wines, points vs price')\n",
    "plt.legend(bbox_to_anchor=(1,1))\n",
    "plt.tight_layout()\n",
    "#plt.savefig('Giovanni Chiappini.png', bbox_inches=None)"
   ]
  },
  {
   "cell_type": "code",
   "execution_count": null,
   "metadata": {},
   "outputs": [],
   "source": [
    "#Krug\n",
    "krug= wine[wine['winery']=='Krug']\n",
    "krug['variety'] = krug['variety'].cat.remove_unused_categories()\n",
    "colors=['#780206', '#a37f07']\n",
    "plt.figure(figsize=(10,6))\n",
    "sns.scatterplot(x='price', y='points', hue='variety', data= krug, marker='o', s=100, palette=colors)\n",
    "plt.title('Krug Wines, points vs price')\n",
    "plt.legend(bbox_to_anchor=(1,1))\n",
    "plt.tight_layout()\n",
    "#plt.savefig('Krug.png', bbox_inches=None)"
   ]
  },
  {
   "cell_type": "code",
   "execution_count": null,
   "metadata": {},
   "outputs": [],
   "source": [
    "#Shafer\n",
    "shafer= wine[wine['winery']=='Shafer']\n",
    "shafer['variety'] = shafer['variety'].cat.remove_unused_categories()\n",
    "colors=['#780206', '#c9282d', '#c24a4d', '#e67253', '#a37f07', '#c4a439', '#cfbe86']\n",
    "plt.figure(figsize=(10,6))\n",
    "sns.scatterplot(x='price', y='points', hue='variety', data= shafer, marker='o', s=100, palette=colors)\n",
    "plt.title('Shafer Wines, points vs price')\n",
    "plt.legend(bbox_to_anchor=(1,1))\n",
    "plt.tight_layout()\n",
    "#plt.savefig('Shafer.png', bbox_inches=None)"
   ]
  },
  {
   "cell_type": "code",
   "execution_count": null,
   "metadata": {},
   "outputs": [],
   "source": [
    "#Sloan\n",
    "sloan= wine[wine['winery']=='Sloan']\n",
    "sloan['variety'] = sloan['variety'].cat.remove_unused_categories()\n",
    "colors=['#780206']\n",
    "plt.figure(figsize=(10,6))\n",
    "sns.scatterplot(x='price', y='points', hue='variety', data= sloan, marker='o', s=100, palette=colors)\n",
    "plt.title('Slone Wines, points vs price')\n",
    "plt.legend(bbox_to_anchor=(1,1))\n",
    "plt.tight_layout()\n",
    "#plt.savefig('Slone.png', bbox_inches=None)"
   ]
  },
  {
   "cell_type": "code",
   "execution_count": null,
   "metadata": {},
   "outputs": [],
   "source": [
    "#Tenuta dell'Ornellaia\n",
    "tenuta= wine[wine[\"winery\"]==\"Tenuta dell'Ornellaia\"]\n",
    "tenuta['variety'] = tenuta['variety'].cat.remove_unused_categories()\n",
    "colors=['#780206', '#c9282d', '#e67253','#c4a439']\n",
    "plt.figure(figsize=(10,6))\n",
    "sns.scatterplot(x='price', y='points', hue='variety', data= tenuta, marker='o', s=100, palette=colors)\n",
    "plt.title(\"Tenuta dell'Ornellaia Wines, points vs price\")\n",
    "plt.legend(bbox_to_anchor=(1,1))\n",
    "plt.tight_layout()\n",
    "#plt.savefig(\"Tenuta dell'Ornellaia.png\", bbox_inches=None)"
   ]
  },
  {
   "cell_type": "code",
   "execution_count": null,
   "metadata": {},
   "outputs": [],
   "source": [
    "#Williams Selyem\n",
    "william= wine[wine[\"winery\"]==\"Williams Selyem\"]\n",
    "william['variety'] = william['variety'].cat.remove_unused_categories()\n",
    "colors=['#780206', '#a80207', '#c9282d', '#c94c2a', '#e67253', '#a37f07', '#c4a439', '#cfbe86']\n",
    "\n",
    "plt.figure(figsize=(10,6))\n",
    "sns.scatterplot(x='price', y='points', hue='variety', data= william, marker='o', s=100, palette=colors)\n",
    "plt.title(\"Williams Selyem Wines, points vs price\")\n",
    "plt.legend(bbox_to_anchor=(1,1))\n",
    "plt.tight_layout()\n",
    "#plt.savefig(\"Williams Selyem.png\", bbox_inches=None)"
   ]
  },
  {
   "cell_type": "code",
   "execution_count": null,
   "metadata": {},
   "outputs": [],
   "source": [
    "#Det största producenterna av vin\n",
    "winerys_highest_production= wine.groupby('winery').size().reset_index(name='count')\n",
    "winerys_highest_production=winerys_highest_production.groupby('winery')['count'].sum().reset_index()\n",
    "winerys_highest_production=winerys_highest_production.sort_values(by='count', ascending=False)\n",
    "winerys_head=winerys_highest_production.head(10)\n",
    "winerys_head"
   ]
  }
 ],
 "metadata": {
  "kernelspec": {
   "display_name": ".venv",
   "language": "python",
   "name": "python3"
  },
  "language_info": {
   "codemirror_mode": {
    "name": "ipython",
    "version": 3
   },
   "file_extension": ".py",
   "mimetype": "text/x-python",
   "name": "python",
   "nbconvert_exporter": "python",
   "pygments_lexer": "ipython3",
   "version": "3.11.5"
  }
 },
 "nbformat": 4,
 "nbformat_minor": 2
}
