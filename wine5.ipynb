{
 "cells": [
  {
   "cell_type": "code",
   "execution_count": null,
   "metadata": {},
   "outputs": [],
   "source": [
    "import pandas as pd\n",
    "import matplotlib.pyplot as plt\n",
    "import seaborn as sns"
   ]
  },
  {
   "cell_type": "code",
   "execution_count": null,
   "metadata": {},
   "outputs": [],
   "source": [
    "#läser in parquet-filen\n",
    "wine=pd.read_parquet('wine_parquet')"
   ]
  },
  {
   "cell_type": "code",
   "execution_count": null,
   "metadata": {},
   "outputs": [],
   "source": [
    "wine['country']=wine['country'].astype('category')\n",
    "wine['description']=wine['description'].astype('string')\n",
    "wine['variety']=wine['variety'].astype('category')\n",
    "wine['winery']=wine['winery'].astype('category')"
   ]
  },
  {
   "cell_type": "code",
   "execution_count": null,
   "metadata": {},
   "outputs": [],
   "source": [
    "#tar bort de kolumner som vi inte är intresserade av i den här analysen\n",
    "wine=wine.drop(columns=['region_1', 'region_2', 'designation','province'])\n",
    "#tar bort de rader som saknar land\n",
    "wine=wine.dropna(subset=['country'])\n",
    "#tar bort dubeltter\n",
    "wine=wine.drop_duplicates(keep='first')"
   ]
  },
  {
   "cell_type": "code",
   "execution_count": null,
   "metadata": {},
   "outputs": [],
   "source": [
    "#Data cleaning. Kolumnen Price och de med NaN värden plockas bort för prisjämförelserna.\n",
    "wine=wine.dropna(subset=['price'])\n",
    "wine.info()"
   ]
  },
  {
   "cell_type": "code",
   "execution_count": null,
   "metadata": {},
   "outputs": [],
   "source": [
    "#Diagram 1\n",
    "#korrelation mellan pris och poäng för de 100 dyraste vinerna, grupperat/vinsort.\n",
    "most_expensive= wine.sort_values(by='price', ascending=False)\n",
    "top_100_most_expensive=most_expensive.iloc[:100]\n",
    "\n",
    "#pd.set_option('display.max_rows', 20)\n",
    "top_100_most_expensive_corr=top_100_most_expensive.groupby('variety')[['points', 'price']].corr()\n",
    "top_100_most_expensive_corr=top_100_most_expensive_corr.dropna()\n",
    "plt.figure(figsize=(12,8))\n",
    "sns.heatmap(top_100_most_expensive_corr, annot=True, cmap='coolwarm', annot_kws={'size':10, 'color':'black'})\n",
    "plt.yticks(size=6)\n",
    "plt.ylabel('Variety')\n",
    "plt.title('Most expensive 100 wines, grouped by variety, correlation price vs points')\n",
    "plt.tight_layout()\n",
    "#plt.savefig(\"Most expensive 500 wines, variety, correlation.png\", bbox_inches=None)"
   ]
  },
  {
   "cell_type": "code",
   "execution_count": null,
   "metadata": {},
   "outputs": [],
   "source": [
    "#Diagram 2\n",
    "#vilka viner är billigast och finns det någon korrelation till poäng, grupperat på variety?\n",
    "cheapest= wine.sort_values(by='price', ascending=True)\n",
    "top_100_cheapest=cheapest.iloc[:100]\n",
    "top_100_cheapest_variety_corr=top_100_cheapest.groupby('variety')[['points', 'price']].corr()\n",
    "top_100_cheapest_variety_corr=top_100_cheapest_variety_corr.dropna()\n",
    "plt.figure(figsize=(12,8))\n",
    "sns.heatmap(top_100_cheapest_variety_corr, annot=True, cmap='coolwarm', annot_kws={'size':9, 'color':'black'})\n",
    "plt.title('Correlation between Points and Price for 100 cheapest Wines')\n",
    "plt.yticks(size=6)\n",
    "plt.ylabel('Countries')\n",
    "plt.title('Cheapest 100 wines, grouped by variety, correlation price vs points')\n",
    "plt.tight_layout()"
   ]
  },
  {
   "cell_type": "code",
   "execution_count": null,
   "metadata": {},
   "outputs": [],
   "source": [
    "#Diagram 3\n",
    "#korrelation mellan pris och poäng för de viner som förekommer med 100 poäng.\n",
    "wines_with_100_points=wine[wine['points']==100]\n",
    "wines_with_100_points_grouped=wines_with_100_points.groupby('variety')['points'].mean()\n",
    "wines_with_100_points_grouped\n",
    "top_wines_with_100_p=['Bordeaux-style White Blend','Cabernet Blend' ,'Cabernet Sauvignon', 'Chardonnay','Merlot','Muscat','Pinot Noir','Prugnolo Gentile','Red Blend','Syrah' ]\n",
    "top_wines_variety=wine[wine['variety'].isin(top_wines_with_100_p)]\n",
    "top_wines_corr=top_wines_variety.groupby('variety')[['points','price']].corr()\n",
    "top_wines_corr=top_wines_corr.dropna()\n",
    "plt.figure(figsize=(12,8))\n",
    "sns.heatmap(top_wines_corr, annot=True, cmap='coolwarm', annot_kws={'size':9, 'color':'black'})\n",
    "plt.title('Correlation between Points and Price for Wines that has at least one sort with 100 p')\n",
    "plt.yticks(size=8)\n",
    "plt.ylabel('Variety')\n",
    "plt.tight_layout()"
   ]
  }
 ],
 "metadata": {
  "kernelspec": {
   "display_name": ".venv",
   "language": "python",
   "name": "python3"
  },
  "language_info": {
   "codemirror_mode": {
    "name": "ipython",
    "version": 3
   },
   "file_extension": ".py",
   "mimetype": "text/x-python",
   "name": "python",
   "nbconvert_exporter": "python",
   "pygments_lexer": "ipython3",
   "version": "3.11.5"
  }
 },
 "nbformat": 4,
 "nbformat_minor": 2
}
